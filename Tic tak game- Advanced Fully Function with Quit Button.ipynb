{
 "cells": [
  {
   "cell_type": "markdown",
   "metadata": {},
   "source": [
    "# Tic Tak Game"
   ]
  },
  {
   "cell_type": "code",
   "execution_count": 1,
   "metadata": {
    "collapsed": true
   },
   "outputs": [],
   "source": [
    "# it is a tic tak too game."
   ]
  },
  {
   "cell_type": "code",
   "execution_count": 2,
   "metadata": {
    "collapsed": false
   },
   "outputs": [],
   "source": [
    "# building a board for the game\n",
    "from IPython.display import clear_output \n",
    "def game_board(board):\n",
    "    clear_output()\n",
    "    \n",
    "    print \" ------------------- \"\n",
    "    print ' |    |     |     |'\n",
    "    print ' | '+board[7]+ '  | ' +board[8]+ '   | ' +board[9]+'   |'\n",
    "    print \" |    |     |     |\"\n",
    "    print \" ------------------\"\n",
    "    print ' |    |     |     |'\n",
    "    print ' | '+board[4]+ '  | ' +board[5]+ '   | ' +board[6]+'   |'\n",
    "    print \" |    |     |     |\"\n",
    "    print \" ------------------\"\n",
    "    print ' |    |     |     |'\n",
    "    print ' | '+board[1]+ '  | ' +board[2]+ '   | ' +board[3]+'   |'                                  \n",
    "    print \" |    |     |     |\"\n",
    "    print \" ------------------\"\n",
    "    print \"Press 'Q' to Quit\"\n",
    "    print '                                                               '\n",
    "    print '                                                               '"
   ]
  },
  {
   "cell_type": "code",
   "execution_count": 3,
   "metadata": {
    "collapsed": true
   },
   "outputs": [],
   "source": [
    "# Assigning player input"
   ]
  },
  {
   "cell_type": "code",
   "execution_count": 4,
   "metadata": {
    "collapsed": false
   },
   "outputs": [],
   "source": [
    "\n",
    "def player_input():\n",
    "    marker = ' '\n",
    "    while not (marker == 'X' or marker == 'O'):\n",
    "        marker = raw_input (' Player 1 do you want to be X or O  :').upper()\n",
    "    if marker== 'X':\n",
    "        print 'Player1 you are X'\n",
    "        return ('X','O')\n",
    "    else:\n",
    "        print 'Player2 you are Y'\n",
    "        return ('O','X')    "
   ]
  },
  {
   "cell_type": "code",
   "execution_count": 5,
   "metadata": {
    "collapsed": false
   },
   "outputs": [],
   "source": [
    "def place_marker(board,marker,position):\n",
    "    board[position] = marker    "
   ]
  },
  {
   "cell_type": "code",
   "execution_count": 6,
   "metadata": {
    "collapsed": true
   },
   "outputs": [],
   "source": [
    "\n",
    "# The above code pace X in the board ie. If the player gives 9 (ie. the position) and have choosen X as his 'marker' It places\n",
    "# X at the bottom right ( board[9]) in the board"
   ]
  },
  {
   "cell_type": "code",
   "execution_count": 7,
   "metadata": {
    "collapsed": false
   },
   "outputs": [],
   "source": [
    "# Check weather the player has won\n"
   ]
  },
  {
   "cell_type": "code",
   "execution_count": 8,
   "metadata": {
    "collapsed": false
   },
   "outputs": [],
   "source": [
    "def win_check(board,mark):\n",
    "    return ((board[7] == mark and board[8] == mark and board[9] == mark) or # across the top\n",
    "    (board[4] == mark and board[5] == mark and board[6] == mark) or # across the middle\n",
    "    (board[1] == mark and board[2] == mark and board[3] == mark) or # across the bottom\n",
    "    (board[7] == mark and board[4] == mark and board[1] == mark) or # down the middle\n",
    "    (board[8] == mark and board[5] == mark and board[2] == mark) or # down the middle\n",
    "    (board[9] == mark and board[6] == mark and board[3] == mark) or # down the right side\n",
    "    (board[7] == mark and board[5] == mark and board[3] == mark) or # diagonal\n",
    "    (board[9] == mark and board[5] == mark and board[1] == mark)) # diagonal\n",
    "   \n",
    "         "
   ]
  },
  {
   "cell_type": "code",
   "execution_count": 9,
   "metadata": {
    "collapsed": false
   },
   "outputs": [],
   "source": [
    "# Select randomly which player should go first"
   ]
  },
  {
   "cell_type": "code",
   "execution_count": 10,
   "metadata": {
    "collapsed": true
   },
   "outputs": [],
   "source": [
    "import random\n",
    "def choose_first():\n",
    "    if random.randint(0,1) == 0:\n",
    "        return 'player2'\n",
    "    else:\n",
    "        return 'player1'"
   ]
  },
  {
   "cell_type": "code",
   "execution_count": 11,
   "metadata": {
    "collapsed": false
   },
   "outputs": [
    {
     "data": {
      "text/plain": [
       "'player2'"
      ]
     },
     "execution_count": 11,
     "metadata": {},
     "output_type": "execute_result"
    }
   ],
   "source": [
    "choose_first()"
   ]
  },
  {
   "cell_type": "code",
   "execution_count": 12,
   "metadata": {
    "collapsed": false
   },
   "outputs": [],
   "source": [
    "#Writing a function to check if there are empty spaces aviablble in the board"
   ]
  },
  {
   "cell_type": "code",
   "execution_count": 13,
   "metadata": {
    "collapsed": false
   },
   "outputs": [],
   "source": [
    "def space_check(board,position):\n",
    "    \n",
    "    return board[position] == ' '"
   ]
  },
  {
   "cell_type": "code",
   "execution_count": 14,
   "metadata": {
    "collapsed": false
   },
   "outputs": [],
   "source": [
    "## function to check if the board is full, return true if full and false if not"
   ]
  },
  {
   "cell_type": "code",
   "execution_count": 15,
   "metadata": {
    "collapsed": false
   },
   "outputs": [],
   "source": [
    "def full_board_check(board):\n",
    "    for i in range(1,10):\n",
    "        if space_check(board,i):\n",
    "            return False\n",
    "    else:\n",
    "        return True"
   ]
  },
  {
   "cell_type": "code",
   "execution_count": 16,
   "metadata": {
    "collapsed": false
   },
   "outputs": [],
   "source": [
    "# fuction to get the players choice (1-9) and use the space_check fuction to see if that place is free, if its free\n",
    "# store the entered value as position, thats going to be used the whole program"
   ]
  },
  {
   "cell_type": "code",
   "execution_count": 17,
   "metadata": {
    "collapsed": false
   },
   "outputs": [],
   "source": [
    "def players_choice(board):\n",
    "    position = ' '    \n",
    "    while position not in '1 2 3 4 5 6 7 8 9 Q'.split() or not space_check(board, int(position)):\n",
    "        position = raw_input('Please enter the Position Where You want to place your Marker :')\n",
    "        if position in '1 2 3 4 5 6 7 8 9'.split() and space_check(board, int(position)):\n",
    "            return int(position)\n",
    "            break\n",
    "        elif position == 'Q':\n",
    "            return position\n",
    "            break\n",
    "        else:\n",
    "            while position not in '1 2 3 4 5 6 7 8 9 Q'.split() or not space_check(board, int(position)):\n",
    "                position = raw_input('The position you entered is not valid. Please enter a valid position :')\n",
    "                if position =='Q':\n",
    "                    return position\n",
    "            else:\n",
    "                continue             \n",
    "        \n",
    "        \n",
    "    return int(position) \n",
    "            \n",
    "            \n",
    "             \n",
    "\n",
    "    \n",
    "    "
   ]
  },
  {
   "cell_type": "code",
   "execution_count": 18,
   "metadata": {
    "collapsed": true
   },
   "outputs": [],
   "source": [
    "# Ask the players they want to restart the game"
   ]
  },
  {
   "cell_type": "code",
   "execution_count": 19,
   "metadata": {
    "collapsed": true
   },
   "outputs": [],
   "source": [
    "def replay():\n",
    "    return raw_input('Do you want to restart the game Y or N').lower().startswith('y')"
   ]
  },
  {
   "cell_type": "code",
   "execution_count": 20,
   "metadata": {
    "collapsed": true
   },
   "outputs": [],
   "source": [
    "# PUTTING EVERYTHING TOGETHER"
   ]
  },
  {
   "cell_type": "code",
   "execution_count": null,
   "metadata": {
    "collapsed": false
   },
   "outputs": [
    {
     "name": "stdout",
     "output_type": "stream",
     "text": [
      " ------------------- \n",
      " |    |     |     |\n",
      " | X  | O   |     |\n",
      " |    |     |     |\n",
      " ------------------\n",
      " |    |     |     |\n",
      " |    | O   | X   |\n",
      " |    |     |     |\n",
      " ------------------\n",
      " |    |     |     |\n",
      " |    | O   |     |\n",
      " |    |     |     |\n",
      " ------------------\n",
      "Press 'Q' to Quit\n",
      "                                                               \n",
      "                                                               \n",
      "                             HURRAYY !!!!!!Player2 wins\n"
     ]
    }
   ],
   "source": [
    "print '                                     WELCOME TO TIC TAC GAMEEEEEE'\n",
    "\n",
    "while True:  \n",
    "    the_board = [' '] * 10\n",
    "    player1_marker,player2_marker = player_input()\n",
    "    turn = choose_first()\n",
    "    game_on = True\n",
    "\n",
    "\n",
    "    while game_on:\n",
    "        if turn == 'player1':\n",
    "            game_board(the_board)\n",
    "            print 'Player1 turn to Play and your Marker is :'+ player1_marker\n",
    "            position = players_choice(the_board)\n",
    "            if position == 'Q':\n",
    "                break\n",
    "            else:\n",
    "                pass            \n",
    "            place_marker(the_board,player1_marker,position)            \n",
    "            if win_check(the_board,player1_marker):                \n",
    "                game_board(the_board)\n",
    "                print '                            HURRAYY !!!!!!Player1 wins   '\n",
    "                break\n",
    "            else:\n",
    "                if full_board_check(the_board):\n",
    "                    game_board(the_board)\n",
    "                    print '                   OOPPPSSSS!!!!! THE GAME IS A TIE !!!!!'\n",
    "                    break\n",
    "                else:\n",
    "                    turn = 'player2'\n",
    "        else:\n",
    "            game_board(the_board)\n",
    "            print 'Player2 turn to play and your Marker is :' + player2_marker\n",
    "            position = players_choice(the_board)\n",
    "            if position == 'Q':\n",
    "                break\n",
    "            else:\n",
    "                pass\n",
    "            place_marker(the_board,player2_marker,position)\n",
    "        \n",
    "            if win_check(the_board,player2_marker):\n",
    "                game_board(the_board)\n",
    "                print '                             HURRAYY !!!!!!Player2 wins'\n",
    "                break\n",
    "            else:\n",
    "                if full_board_check(the_board):\n",
    "                    game_board(the_board)\n",
    "                    print '                    OOPPPSSSS!!!!! THE GAME IS A TIE !!!!!'\n",
    "                    break\n",
    "                else:\n",
    "                    turn = 'player1'\n",
    "    if not replay():\n",
    "        break\n",
    "                    \n",
    "\n",
    "                \n",
    "                \n",
    "                \n",
    "            \n",
    "        \n",
    "        \n"
   ]
  },
  {
   "cell_type": "code",
   "execution_count": null,
   "metadata": {
    "collapsed": true
   },
   "outputs": [],
   "source": []
  },
  {
   "cell_type": "code",
   "execution_count": null,
   "metadata": {
    "collapsed": true
   },
   "outputs": [],
   "source": []
  },
  {
   "cell_type": "code",
   "execution_count": 22,
   "metadata": {
    "collapsed": false
   },
   "outputs": [],
   "source": []
  },
  {
   "cell_type": "code",
   "execution_count": null,
   "metadata": {
    "collapsed": false
   },
   "outputs": [],
   "source": []
  },
  {
   "cell_type": "code",
   "execution_count": null,
   "metadata": {
    "collapsed": false
   },
   "outputs": [],
   "source": []
  },
  {
   "cell_type": "code",
   "execution_count": null,
   "metadata": {
    "collapsed": false
   },
   "outputs": [],
   "source": []
  },
  {
   "cell_type": "code",
   "execution_count": null,
   "metadata": {
    "collapsed": false
   },
   "outputs": [],
   "source": []
  },
  {
   "cell_type": "code",
   "execution_count": null,
   "metadata": {
    "collapsed": false
   },
   "outputs": [],
   "source": []
  },
  {
   "cell_type": "code",
   "execution_count": null,
   "metadata": {
    "collapsed": false
   },
   "outputs": [],
   "source": []
  },
  {
   "cell_type": "code",
   "execution_count": null,
   "metadata": {
    "collapsed": false
   },
   "outputs": [],
   "source": []
  },
  {
   "cell_type": "code",
   "execution_count": null,
   "metadata": {
    "collapsed": false
   },
   "outputs": [],
   "source": []
  },
  {
   "cell_type": "code",
   "execution_count": null,
   "metadata": {
    "collapsed": false
   },
   "outputs": [],
   "source": []
  },
  {
   "cell_type": "code",
   "execution_count": null,
   "metadata": {
    "collapsed": true
   },
   "outputs": [],
   "source": []
  }
 ],
 "metadata": {
  "anaconda-cloud": {},
  "kernelspec": {
   "display_name": "Python [conda root]",
   "language": "python",
   "name": "conda-root-py"
  },
  "language_info": {
   "codemirror_mode": {
    "name": "ipython",
    "version": 2
   },
   "file_extension": ".py",
   "mimetype": "text/x-python",
   "name": "python",
   "nbconvert_exporter": "python",
   "pygments_lexer": "ipython2",
   "version": "2.7.12"
  }
 },
 "nbformat": 4,
 "nbformat_minor": 1
}
